{
  "nbformat": 4,
  "nbformat_minor": 0,
  "metadata": {
    "colab": {
      "provenance": []
    },
    "kernelspec": {
      "name": "python3",
      "display_name": "Python 3"
    },
    "language_info": {
      "name": "python"
    }
  },
  "cells": [
    {
      "cell_type": "markdown",
      "source": [
        "# 2.1 토큰화 코드"
      ],
      "metadata": {
        "id": "QP_rSGa-DVhU"
      }
    },
    {
      "cell_type": "code",
      "execution_count": null,
      "metadata": {
        "colab": {
          "base_uri": "https://localhost:8080/"
        },
        "id": "jsuqEaYTDLYw",
        "outputId": "cec74ff5-3265-4bb4-ae23-80f0a19ea483"
      },
      "outputs": [
        {
          "output_type": "stream",
          "name": "stdout",
          "text": [
            "input_text_list:  ['나는', '최근', '파리', '여행을', '다녀왔다']\n"
          ]
        }
      ],
      "source": [
        "# 띄어쓰기 단위로 분리\n",
        "input_text = \"나는 최근 파리 여행을 다녀왔다\"\n",
        "input_text_list = input_text.split()\n",
        "\n",
        "print(\"input_text_list: \", input_text_list)"
      ]
    },
    {
      "cell_type": "code",
      "source": [
        "# 토큰 -> 아이디 딕셔너리 만들기\n",
        "str2idx = {word:idx for idx, word in enumerate(input_text_list)}\n",
        "\n",
        "print(\"str2idx: \", str2idx)"
      ],
      "metadata": {
        "colab": {
          "base_uri": "https://localhost:8080/"
        },
        "id": "g78bdV0nDbyA",
        "outputId": "ea5a2309-4258-4a70-9b0f-95ead3e2b7a3"
      },
      "execution_count": null,
      "outputs": [
        {
          "output_type": "stream",
          "name": "stdout",
          "text": [
            "str2idx:  {'나는': 0, '최근': 1, '파리': 2, '여행을': 3, '다녀왔다': 4}\n"
          ]
        }
      ]
    },
    {
      "cell_type": "code",
      "source": [
        "# 아이디 -> 토큰 딕셔너리 만들기\n",
        "idx2str = {idx:word for idx, word in enumerate(input_text_list)}\n",
        "\n",
        "print(\"idx2str: \", idx2str)"
      ],
      "metadata": {
        "colab": {
          "base_uri": "https://localhost:8080/"
        },
        "id": "rKvnD7kCDmvP",
        "outputId": "43f2a0ce-5117-46c5-a241-a8abc161641b"
      },
      "execution_count": null,
      "outputs": [
        {
          "output_type": "stream",
          "name": "stdout",
          "text": [
            "idx2str:  {0: '나는', 1: '최근', 2: '파리', 3: '여행을', 4: '다녀왔다'}\n"
          ]
        }
      ]
    },
    {
      "cell_type": "code",
      "source": [
        "# 토큰을 토큰 아이디로 변환\n",
        "input_ids = [str2idx[word] for word in input_text_list]\n",
        "\n",
        "print(\"input_ids: \", input_ids)"
      ],
      "metadata": {
        "colab": {
          "base_uri": "https://localhost:8080/"
        },
        "id": "g1Va0gDBDebh",
        "outputId": "9ba890d2-69a9-4816-f93d-0a32237589a7"
      },
      "execution_count": null,
      "outputs": [
        {
          "output_type": "stream",
          "name": "stdout",
          "text": [
            "input_ids:  [0, 1, 2, 3, 4]\n"
          ]
        }
      ]
    },
    {
      "cell_type": "markdown",
      "source": [
        "# 2.2 토큰 아이디에서 벡터로 변환"
      ],
      "metadata": {
        "id": "bbdZXrOUGdL4"
      }
    },
    {
      "cell_type": "code",
      "source": [
        "import torch\n",
        "import torch.nn as nn\n",
        "\n",
        "embedding_dim = 16\n",
        "embed_layer = nn.Embedding(len(str2idx), embedding_dim)\n",
        "\n",
        "input_embeddings = embed_layer(torch.tensor(input_ids)) # (5, 16)\n",
        "input_embeddings = input_embeddings.unsqueeze(0) # (1, 5, 16)\n",
        "\n",
        "input_embeddings.shape"
      ],
      "metadata": {
        "colab": {
          "base_uri": "https://localhost:8080/"
        },
        "id": "8GJV-37zD1V1",
        "outputId": "2a1b4bb9-2517-4238-f140-d8a2e2919d13"
      },
      "execution_count": null,
      "outputs": [
        {
          "output_type": "execute_result",
          "data": {
            "text/plain": [
              "torch.Size([1, 5, 16])"
            ]
          },
          "metadata": {},
          "execution_count": 5
        }
      ]
    },
    {
      "cell_type": "code",
      "source": [
        "input_embeddings[0][0]"
      ],
      "metadata": {
        "colab": {
          "base_uri": "https://localhost:8080/"
        },
        "id": "-fNNM64uGvdf",
        "outputId": "7e07d440-0c42-4610-ccd1-641838dddeb1"
      },
      "execution_count": null,
      "outputs": [
        {
          "output_type": "execute_result",
          "data": {
            "text/plain": [
              "tensor([-0.3614, -0.0572, -0.4588,  1.3971,  1.4247,  0.8740, -2.5909, -1.3791,\n",
              "         0.5677,  1.4021,  0.0903, -2.6209,  1.4019,  0.8354,  0.6523,  0.4604],\n",
              "       grad_fn=<SelectBackward0>)"
            ]
          },
          "metadata": {},
          "execution_count": 6
        }
      ]
    },
    {
      "cell_type": "markdown",
      "source": [
        "# 2.3 절대적 위치 인코딩"
      ],
      "metadata": {
        "id": "kAmX5c0HHwOR"
      }
    },
    {
      "cell_type": "code",
      "source": [
        "embedding_dim = 16\n",
        "max_position = 12\n",
        "\n",
        "# 토큰 임베딩 층 생성\n",
        "embed_layer = nn.Embedding(len(str2idx), embedding_dim)\n",
        "\n",
        "# 위치 인코딩 층 생성\n",
        "position_embed_layer = nn.Embedding(max_position, embedding_dim)\n",
        "position_ids = torch.arange(len(input_ids), dtype=torch.long).unsqueeze(0)\n",
        "position_encodings = position_embed_layer(position_ids)\n",
        "\n",
        "token_embeddings = embed_layer(torch.tensor(input_ids)) # (5, 16)\n",
        "token_embeddings = token_embeddings.unsqueeze(0) # (1, 5, 16)\n",
        "\n",
        "# 토큰 임베딩과 위치 인코딩을 더해 최종 입력 임베딩 생성\n",
        "input_embeddings = token_embeddings + position_encodings\n",
        "\n",
        "input_embeddings.shape"
      ],
      "metadata": {
        "colab": {
          "base_uri": "https://localhost:8080/"
        },
        "id": "GR8A7eecGy0F",
        "outputId": "ad7c9dd3-671b-4044-e4c6-b5d6efc229c0"
      },
      "execution_count": null,
      "outputs": [
        {
          "output_type": "execute_result",
          "data": {
            "text/plain": [
              "torch.Size([1, 5, 16])"
            ]
          },
          "metadata": {},
          "execution_count": 7
        }
      ]
    },
    {
      "cell_type": "markdown",
      "source": [
        "# 2.4 쿼리, 키, 값 벡터를 만드는 nn.Linear 층"
      ],
      "metadata": {
        "id": "d8RmQYGATsw0"
      }
    },
    {
      "cell_type": "code",
      "source": [
        "head_dim = 16\n",
        "\n",
        "# 쿼리, 키, 값을 계산하기 위한 변환\n",
        "weight_q = nn.Linear(embedding_dim, head_dim)\n",
        "weight_k = nn.Linear(embedding_dim, head_dim)\n",
        "weight_v = nn.Linear(embedding_dim, head_dim)\n",
        "\n",
        "# 변환 수행\n",
        "querys = weight_q(input_embeddings) # (1, 5, 16)\n",
        "keys = weight_k(input_embeddings) # (1, 5, 16)\n",
        "values = weight_v(input_embeddings) # (1, 5, 16)"
      ],
      "metadata": {
        "id": "0swgHXgEj08X"
      },
      "execution_count": null,
      "outputs": []
    },
    {
      "cell_type": "markdown",
      "source": [
        "# 2.5. 스케일 점곱 방식의 어텐션"
      ],
      "metadata": {
        "id": "zs1n4Kanj9da"
      }
    },
    {
      "cell_type": "code",
      "source": [
        "from math import sqrt\n",
        "import torch.nn.functional as F\n",
        "\n",
        "def compute_attention(querys, keys, values, is_causal=False):\n",
        "\tdim_k = querys.size(-1) # 16\n",
        "\tscores = querys @ keys.transpose(-2, -1) / sqrt(dim_k)\n",
        "\tweights = F.softmax(scores, dim=-1)\n",
        "\treturn weights @ values"
      ],
      "metadata": {
        "id": "hjBiIghpj7Fw"
      },
      "execution_count": null,
      "outputs": []
    },
    {
      "cell_type": "markdown",
      "source": [
        "# 2.6. 어텐션 연산의 입력과 출력"
      ],
      "metadata": {
        "id": "xbI5ESSfkBoK"
      }
    },
    {
      "cell_type": "code",
      "source": [
        "print(\"원본 입력 형태: \", input_embeddings.shape)\n",
        "\n",
        "after_attention_embeddings = compute_attention(querys, keys, values)\n",
        "\n",
        "print(\"어텐션 적용 후 형태: \", after_attention_embeddings.shape)\n",
        "# 원본 입력 형태:  torch.Size([1, 5, 16])\n",
        "# 어텐션 적용 후 형태:  torch.Size([1, 5, 16])"
      ],
      "metadata": {
        "colab": {
          "base_uri": "https://localhost:8080/"
        },
        "id": "x5g27_dBkECb",
        "outputId": "3ca99d03-5397-4e26-dfa8-c5d43a648092"
      },
      "execution_count": null,
      "outputs": [
        {
          "output_type": "stream",
          "name": "stdout",
          "text": [
            "원본 입력 형태:  torch.Size([1, 5, 16])\n",
            "어텐션 적용 후 형태:  torch.Size([1, 5, 16])\n"
          ]
        }
      ]
    },
    {
      "cell_type": "markdown",
      "source": [
        "# 2.7. 어텐션 연산을 수행하는 AttentionHead 클래스"
      ],
      "metadata": {
        "id": "5EWfZUDqkN6w"
      }
    },
    {
      "cell_type": "code",
      "source": [
        "class AttentionHead(nn.Module):\n",
        "  def __init__(self, token_embed_dim, head_dim, is_causal=False):\n",
        "    super().__init__()\n",
        "    self.is_causal = is_causal\n",
        "    self.weight_q = nn.Linear(token_embed_dim, head_dim) # 쿼리 벡터 생성을 위한 선형 층\n",
        "    self.weight_k = nn.Linear(token_embed_dim, head_dim) # 키 벡터 생성을 위한 선형 층\n",
        "    self.weight_v = nn.Linear(token_embed_dim, head_dim) # 값 벡터 생성을 위한 선형 층\n",
        "\n",
        "  def forward(self, querys, keys, values):\n",
        "    outputs = compute_attention(\n",
        "        self.weight_q(querys),  # 쿼리 벡터\n",
        "        self.weight_k(keys),    # 키 벡터\n",
        "        self.weight_v(values),  # 값 벡터\n",
        "        is_causal=self.is_causal\n",
        "    )\n",
        "    return outputs\n",
        "\n",
        "attention_head = AttentionHead(embedding_dim, embedding_dim)\n",
        "after_attention_embeddings = attention_head(input_embeddings, input_embeddings, input_embeddings)\n",
        "\n",
        "after_attention_embeddings"
      ],
      "metadata": {
        "colab": {
          "base_uri": "https://localhost:8080/"
        },
        "id": "SpULlfSfkMVS",
        "outputId": "d5943670-72b1-401f-e921-32d1ef5fc485"
      },
      "execution_count": null,
      "outputs": [
        {
          "output_type": "execute_result",
          "data": {
            "text/plain": [
              "tensor([[[ 0.4047,  0.0939,  0.2441, -0.6583, -0.0134, -0.5776,  0.1498,\n",
              "           0.0910, -0.4203, -0.4312, -0.8504,  0.0919,  0.8008,  0.4840,\n",
              "           0.1754,  0.7259],\n",
              "         [-0.1425,  0.0932,  0.0728, -0.5479,  0.1635, -0.4232,  0.2481,\n",
              "           0.4192, -0.2860, -0.5058, -0.8056, -0.2665,  1.1062,  0.3470,\n",
              "           0.2251,  0.7241],\n",
              "         [-0.0825, -0.3060, -0.2285, -0.2340, -0.0601, -0.2044,  0.3065,\n",
              "           0.2013, -0.1683, -0.3365, -0.8423, -0.3528,  1.4507,  0.4539,\n",
              "           0.4230,  0.7430],\n",
              "         [-0.1684, -0.1617, -0.2509, -0.2396,  0.1444,  0.0652,  0.1169,\n",
              "           0.2352, -0.1266, -0.4174, -0.4947, -0.3010,  1.3712,  0.2729,\n",
              "           0.3789,  0.5575],\n",
              "         [-0.2229,  0.3545,  0.2189, -0.7134,  0.3586, -0.4422,  0.1550,\n",
              "           0.5587, -0.3308, -0.6263, -0.6667, -0.2160,  0.9078,  0.2232,\n",
              "           0.1073,  0.6517]]], grad_fn=<UnsafeViewBackward0>)"
            ]
          },
          "metadata": {},
          "execution_count": 11
        }
      ]
    },
    {
      "cell_type": "markdown",
      "source": [
        "# 2.8. 멀티 헤드 어텐션 구현"
      ],
      "metadata": {
        "id": "06QvAmU8qBX-"
      }
    },
    {
      "cell_type": "code",
      "source": [
        "class MultiheadAttention(nn.Module):\n",
        "  def __init__(self, token_embed_dim, d_model, n_head, is_causal=False):\n",
        "    super().__init__()\n",
        "    self.n_head = n_head\n",
        "    self.is_causal = is_causal\n",
        "    self.weight_q = nn.Linear(token_embed_dim, d_model)\n",
        "    self.weight_k = nn.Linear(token_embed_dim, d_model)\n",
        "    self.weight_v = nn.Linear(token_embed_dim, d_model)\n",
        "    self.concat_linear = nn.Linear(d_model, d_model)\n",
        "\n",
        "  def forward(self, querys, keys, values):\n",
        "    B, T, C = querys.size()\n",
        "    querys = self.weight_q(querys).view(B, T, self.n_head, C // self.n_head).transpose(1, 2)\n",
        "    keys = self.weight_k(keys).view(B, T, self.n_head, C // self.n_head).transpose(1, 2)\n",
        "    values = self.weight_v(values).view(B, T, self.n_head, C // self.n_head).transpose(1, 2)\n",
        "    attention = compute_attention(querys, keys, values, self.is_causal)\n",
        "    output = attention.transpose(1, 2).contiguous().view(B, T, C)\n",
        "    output = self.concat_linear(output)\n",
        "    return output\n",
        "\n",
        "n_head = 4\n",
        "mh_attention = MultiheadAttention(embedding_dim, embedding_dim, n_head)\n",
        "after_attention_embeddings = mh_attention(input_embeddings, input_embeddings, input_embeddings)\n",
        "\n",
        "after_attention_embeddings.shape"
      ],
      "metadata": {
        "id": "v-r_hqm0kWaC",
        "colab": {
          "base_uri": "https://localhost:8080/"
        },
        "outputId": "0a941577-216e-41b0-b85c-824fc723dfa9"
      },
      "execution_count": null,
      "outputs": [
        {
          "output_type": "execute_result",
          "data": {
            "text/plain": [
              "torch.Size([1, 5, 16])"
            ]
          },
          "metadata": {},
          "execution_count": 12
        }
      ]
    },
    {
      "cell_type": "markdown",
      "source": [
        "# 2.9. 층 정규화 코드"
      ],
      "metadata": {
        "id": "RpnPWjU6Tj8f"
      }
    },
    {
      "cell_type": "code",
      "source": [
        "norm = nn.LayerNorm(embedding_dim)\n",
        "norm_x = norm(input_embeddings)\n",
        "norm_x.shape # torch.Size([1, 5, 16])\n",
        "\n",
        "norm_x.mean(dim=-1).data, norm_x.std(dim=-1).data\n",
        "\n",
        "# (tensor([[ 2.2352e-08, -1.1176e-08, -7.4506e-09, -3.9116e-08, -1.8626e-08]]),\n",
        "#  tensor([[1.0328, 1.0328, 1.0328, 1.0328, 1.0328]]))"
      ],
      "metadata": {
        "colab": {
          "base_uri": "https://localhost:8080/"
        },
        "id": "IM7uUK2evvvG",
        "outputId": "ba2f0b7d-27b4-4e2e-e6cc-4e3577730cd5"
      },
      "execution_count": null,
      "outputs": [
        {
          "output_type": "execute_result",
          "data": {
            "text/plain": [
              "(tensor([[-3.7253e-08,  3.7253e-08,  1.4901e-08,  3.7253e-08, -3.1665e-08]]),\n",
              " tensor([[1.0328, 1.0328, 1.0328, 1.0328, 1.0328]]))"
            ]
          },
          "metadata": {},
          "execution_count": 13
        }
      ]
    },
    {
      "cell_type": "code",
      "source": [
        "input_embeddings[0][0]"
      ],
      "metadata": {
        "colab": {
          "base_uri": "https://localhost:8080/"
        },
        "id": "8GdYkb6dWNbm",
        "outputId": "24d60e06-97f6-4cb9-f1fc-48b5672d8b63"
      },
      "execution_count": null,
      "outputs": [
        {
          "output_type": "execute_result",
          "data": {
            "text/plain": [
              "tensor([ 1.6355, -0.0369,  1.4637,  1.9565,  0.4546, -0.8515,  1.0669,  4.1970,\n",
              "         0.1689, -0.2110,  1.9591,  0.3783, -0.1490, -3.9026,  2.3559,  0.3503],\n",
              "       grad_fn=<SelectBackward0>)"
            ]
          },
          "metadata": {},
          "execution_count": 14
        }
      ]
    },
    {
      "cell_type": "code",
      "source": [
        "input_embeddings[0][0].mean(), input_embeddings[0][0].std()"
      ],
      "metadata": {
        "colab": {
          "base_uri": "https://localhost:8080/"
        },
        "id": "zEJm5GHVXHkA",
        "outputId": "0f9a26d3-6d0e-452b-ccd6-669f3727c8d4"
      },
      "execution_count": null,
      "outputs": [
        {
          "output_type": "execute_result",
          "data": {
            "text/plain": [
              "(tensor(0.6772, grad_fn=<MeanBackward0>),\n",
              " tensor(1.7507, grad_fn=<StdBackward0>))"
            ]
          },
          "metadata": {},
          "execution_count": 15
        }
      ]
    },
    {
      "cell_type": "code",
      "source": [
        "norm_x[0][0]"
      ],
      "metadata": {
        "colab": {
          "base_uri": "https://localhost:8080/"
        },
        "id": "T7YIu3z2WX6_",
        "outputId": "8631fbcf-fc67-42f2-d4c1-04b7335f09c0"
      },
      "execution_count": null,
      "outputs": [
        {
          "output_type": "execute_result",
          "data": {
            "text/plain": [
              "tensor([ 0.5653, -0.4213,  0.4640,  0.7547, -0.1314, -0.9019,  0.2299,  2.0765,\n",
              "        -0.2999, -0.5240,  0.7562, -0.1764, -0.4874, -2.7018,  0.9903, -0.1929],\n",
              "       grad_fn=<SelectBackward0>)"
            ]
          },
          "metadata": {},
          "execution_count": 16
        }
      ]
    },
    {
      "cell_type": "code",
      "source": [
        "norm_x[0][0].mean(), norm_x[0][0].std()"
      ],
      "metadata": {
        "colab": {
          "base_uri": "https://localhost:8080/"
        },
        "id": "RY_e9aoHXL8q",
        "outputId": "3c9d6486-6996-486a-a148-7936b5116470"
      },
      "execution_count": null,
      "outputs": [
        {
          "output_type": "execute_result",
          "data": {
            "text/plain": [
              "(tensor(-3.7253e-08, grad_fn=<MeanBackward0>),\n",
              " tensor(1.0328, grad_fn=<StdBackward0>))"
            ]
          },
          "metadata": {},
          "execution_count": 17
        }
      ]
    },
    {
      "cell_type": "markdown",
      "source": [
        "# 2.10. 피드 포워드 층 코드"
      ],
      "metadata": {
        "id": "qZ2TkmX2T2Le"
      }
    },
    {
      "cell_type": "code",
      "source": [
        "class PreLayerNormFeedForward(nn.Module):\n",
        "  def __init__(self, d_model, dim_feedforward, dropout):\n",
        "    super().__init__()\n",
        "    self.linear1 = nn.Linear(d_model, dim_feedforward) # 선형 층 1\n",
        "    self.linear2 = nn.Linear(dim_feedforward, d_model) # 선형 층 2\n",
        "    self.dropout1 = nn.Dropout(dropout) # 드랍아웃 층 1\n",
        "    self.dropout2 = nn.Dropout(dropout) # 드랍아웃 층 2\n",
        "    self.activation = nn.GELU() # 활성 함수\n",
        "    self.norm = nn.LayerNorm(d_model) # 층 정규화\n",
        "\n",
        "  def forward(self, src):\n",
        "    x = self.norm(src)\n",
        "    x = x + self.linear2(self.dropout1(self.activation(self.linear1(x))))\n",
        "    x = self.dropout2(x)\n",
        "    return x"
      ],
      "metadata": {
        "id": "l2wAKo4Nc1dF"
      },
      "execution_count": null,
      "outputs": []
    },
    {
      "cell_type": "markdown",
      "source": [
        "# 2.11. 인코더 층"
      ],
      "metadata": {
        "id": "wv8vzWX4dIHo"
      }
    },
    {
      "cell_type": "code",
      "source": [
        "class TransformerEncoderLayer(nn.Module):\n",
        "  def __init__(self, d_model, nhead, dim_feedforward, dropout):\n",
        "    super().__init__()\n",
        "    self.attn = MultiheadAttention(d_model, d_model, nhead) # 멀티 헤드 어텐션 클래스\n",
        "    self.norm1 = nn.LayerNorm(d_model) # 층 정규화\n",
        "    self.dropout1 = nn.Dropout(dropout) # 드랍아웃\n",
        "    self.feed_forward = PreLayerNormFeedForward(d_model, dim_feedforward, dropout) # 피드포워드\n",
        "\n",
        "  def forward(self, src):\n",
        "    norm_x = self.norm1(src)\n",
        "    attn_output = self.attn(norm_x, norm_x, norm_x)\n",
        "    x = src + self.dropout1(attn_output) # 잔차 연결\n",
        "\n",
        "    # 피드 포워드\n",
        "    x = self.feed_forward(x)\n",
        "    return x"
      ],
      "metadata": {
        "id": "VCqJCgNadXPo"
      },
      "execution_count": null,
      "outputs": []
    },
    {
      "cell_type": "markdown",
      "source": [
        "# 2.12. 인코더 구현"
      ],
      "metadata": {
        "id": "Jw7IWhbbwAAn"
      }
    },
    {
      "cell_type": "code",
      "source": [
        "import copy\n",
        "def get_clones(module, N):\n",
        "  return nn.ModuleList([copy.deepcopy(module) for i in range(N)])\n",
        "\n",
        "class TransformerEncoder(nn.Module):\n",
        "  def __init__(self, encoder_layer, num_layers):\n",
        "    super().__init__()\n",
        "    self.layers = get_clones(encoder_layer, num_layers)\n",
        "    self.num_layers = num_layers\n",
        "    self.norm = norm\n",
        "\n",
        "  def forward(self, src):\n",
        "    output = src\n",
        "    for mod in self.layers:\n",
        "        output = mod(output)\n",
        "    return output"
      ],
      "metadata": {
        "id": "PisCxx2rwA8l"
      },
      "execution_count": null,
      "outputs": []
    },
    {
      "cell_type": "markdown",
      "source": [
        "# 2.13. 디코더에서 어텐션 연산(마스크 어텐션)"
      ],
      "metadata": {
        "id": "rrtyexsVx15h"
      }
    },
    {
      "cell_type": "code",
      "source": [
        "def compute_attention(querys, keys, values, is_causal=False):\n",
        "  dim_k = querys.size(-1) # 16\n",
        "  scores = querys @ keys.transpose(-2, -1) / sqrt(dim_k) # (1, 5, 5)\n",
        "\n",
        "  if is_causal:\n",
        "    query_length = querys.size(2)\n",
        "    key_length = keys.size(2)\n",
        "    temp_mask = torch.ones(query_length, key_length, dtype=torch.bool).tril(diagonal=0)\n",
        "    scores = scores.masked_fill(temp_mask == False, float(\"-inf\"))\n",
        "\n",
        "  weights = F.softmax(scores, dim=-1) # (1, 5, 5)\n",
        "  return weights @ values # (1, 5, 16)"
      ],
      "metadata": {
        "id": "K8YUMHO6x2h6"
      },
      "execution_count": null,
      "outputs": []
    },
    {
      "cell_type": "markdown",
      "source": [
        "# 2.14. 크로스 어텐션이 포함된 디코더 층"
      ],
      "metadata": {
        "id": "vWc5w8HQpW3F"
      }
    },
    {
      "cell_type": "code",
      "source": [
        "class TransformerDecoderLayer(nn.Module):\n",
        "  def __init__(self, d_model, nhead, dim_feedforward=2048, dropout=0.1):\n",
        "    super().__init__()\n",
        "    self.self_attn = MultiheadAttention(d_model, d_model, nhead)\n",
        "    self.multihead_attn = MultiheadAttention(d_model, d_model, nhead)\n",
        "    self.feed_forward = PreLayerNormFeedForward(d_model, dim_feedforward, dropout)\n",
        "\n",
        "    self.norm1 = nn.LayerNorm(d_model)\n",
        "    self.norm2 = nn.LayerNorm(d_model)\n",
        "    self.dropout1 = nn.Dropout(dropout)\n",
        "    self.dropout2 = nn.Dropout(dropout)\n",
        "\n",
        "  def forward(self, tgt, encoder_output, is_causal=True):\n",
        "    # 셀프 어텐션 연산\n",
        "    x = self.norm1(tgt)\n",
        "    x = x + self.dropout1(self.self_attn(x, x, x, is_causal=is_causal))\n",
        "    # 크로스 어텐션 연산\n",
        "    x = self.norm2(x)\n",
        "    x = x + self.dropout2(self.multihead_attn(x, encoder_output, encoder_output))\n",
        "    # 피드 포워드 연산\n",
        "    x = self.feed_forward(x)\n",
        "    return x"
      ],
      "metadata": {
        "id": "hE8sW18UpXdR"
      },
      "execution_count": null,
      "outputs": []
    },
    {
      "cell_type": "markdown",
      "source": [
        "# 2.15. 디코더 구현"
      ],
      "metadata": {
        "id": "q6sQoa6Xs0eZ"
      }
    },
    {
      "cell_type": "code",
      "source": [
        "import copy\n",
        "def get_clones(module, N):\n",
        "  return nn.ModuleList([copy.deepcopy(module) for i in range(N)])\n",
        "\n",
        "class TransformerDecoder(nn.Module):\n",
        "  def __init__(self, decoder_layer, num_layers):\n",
        "    super().__init__()\n",
        "    self.layers = get_clones(decoder_layer, num_layers)\n",
        "    self.num_layers = num_layers\n",
        "\n",
        "  def forward(self, tgt, src):\n",
        "    output = tgt\n",
        "    for mod in self.layers:\n",
        "        output = mod(tgt, src)\n",
        "    return output"
      ],
      "metadata": {
        "id": "2wegeLNSs07s"
      },
      "execution_count": null,
      "outputs": []
    }
  ]
}