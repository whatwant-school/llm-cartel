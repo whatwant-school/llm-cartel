{
  "cells": [
    {
      "cell_type": "code",
      "execution_count": 1,
      "metadata": {
        "id": "iALDsPwM7JId"
      },
      "outputs": [],
      "source": [
        "import warnings\n",
        "warnings.filterwarnings('ignore')"
      ]
    },
    {
      "cell_type": "markdown",
      "source": [
        "## 1. KNN (K-Nearest Neighbor)"
      ],
      "metadata": {
        "id": "jcXBmw6FKFyL"
      }
    },
    {
      "cell_type": "code",
      "source": [
        "! wget ftp://ftp.irisa.fr/local/texmex/corpus/sift.tar.gz\n",
        "! tar -xf sift.tar.gz\n",
        "! mkdir data/sift1M -p\n",
        "! mv sift/* data/sift1M"
      ],
      "metadata": {
        "colab": {
          "base_uri": "https://localhost:8080/"
        },
        "id": "zgz9kScwJ_7B",
        "outputId": "98ec263d-d48b-4515-cec0-029c9fce6436"
      },
      "execution_count": 2,
      "outputs": [
        {
          "output_type": "stream",
          "name": "stdout",
          "text": [
            "--2025-02-28 20:28:26--  ftp://ftp.irisa.fr/local/texmex/corpus/sift.tar.gz\n",
            "           => ‘sift.tar.gz’\n",
            "Resolving ftp.irisa.fr (ftp.irisa.fr)... 131.254.254.45, 2001:660:7303:254::45\n",
            "Connecting to ftp.irisa.fr (ftp.irisa.fr)|131.254.254.45|:21... connected.\n",
            "Logging in as anonymous ... Logged in!\n",
            "==> SYST ... done.    ==> PWD ... done.\n",
            "==> TYPE I ... done.  ==> CWD (1) /local/texmex/corpus ... done.\n",
            "==> SIZE sift.tar.gz ... 168280445\n",
            "==> PASV ... done.    ==> RETR sift.tar.gz ... done.\n",
            "Length: 168280445 (160M) (unauthoritative)\n",
            "\n",
            "sift.tar.gz         100%[===================>] 160.48M  10.7MB/s    in 14s     \n",
            "\n",
            "2025-02-28 20:28:41 (11.8 MB/s) - ‘sift.tar.gz’ saved [168280445]\n",
            "\n"
          ]
        }
      ]
    },
    {
      "cell_type": "code",
      "source": [
        "import psutil\n",
        "\n",
        "def get_memory_usage_mb():\n",
        "  process = psutil.Process()\n",
        "  memory_info = process.memory_info()\n",
        "  return memory_info.rss / (1024 * 1024)"
      ],
      "metadata": {
        "id": "LfRruj0jYvHU"
      },
      "execution_count": 3,
      "outputs": []
    },
    {
      "cell_type": "code",
      "source": [
        "%%capture\n",
        "! pip install faiss-cpu"
      ],
      "metadata": {
        "id": "DsIyMPYWaRj4"
      },
      "execution_count": 4,
      "outputs": []
    },
    {
      "cell_type": "code",
      "source": [
        "import time\n",
        "import faiss\n",
        "from faiss.contrib.datasets import DatasetSIFT1M\n",
        "\n",
        "ds = DatasetSIFT1M()\n",
        "\n",
        "xq = ds.get_queries()\n",
        "xb = ds.get_database()\n",
        "gt = ds.get_groundtruth()"
      ],
      "metadata": {
        "id": "LOO-iP6YaIix"
      },
      "execution_count": 5,
      "outputs": []
    },
    {
      "cell_type": "code",
      "source": [
        "k = 1\n",
        "d = xq.shape[1]\n",
        "nq = 1000\n",
        "xq = xq[:nq]\n",
        "\n",
        "init_memory = get_memory_usage_mb()\n",
        "for i in range(1, 10, 2):\n",
        "  start_memory = get_memory_usage_mb()\n",
        "  start_indexing = time.time()\n",
        "\n",
        "  index = faiss.IndexFlatL2(d)\n",
        "  index.add(xb[:(i+1)*100000])\n",
        "\n",
        "  end_indexing = time.time()\n",
        "  end_memory = get_memory_usage_mb()\n",
        "\n",
        "  t0 = time.time()\n",
        "  D, I = index.search(xq, k)\n",
        "  t1 = time.time()\n",
        "\n",
        "  indexing = (end_indexing - start_indexing) * 1000\n",
        "  # memory = end_memory - start_memory\n",
        "  memory = end_memory - init_memory\n",
        "  search = (t1 - t0) * 1000 / nq\n",
        "\n",
        "  print(f\"데이터 {(i+1)*100000}개:\")\n",
        "  print(f\"색인: {indexing:.3f} ms ({memory:.3f} MB) 검색: {search:.3f} ms\")"
      ],
      "metadata": {
        "colab": {
          "base_uri": "https://localhost:8080/"
        },
        "id": "fH0ju5rCawIu",
        "outputId": "25af43b9-1572-48dd-ac76-830b5885e15c"
      },
      "execution_count": 6,
      "outputs": [
        {
          "output_type": "stream",
          "name": "stdout",
          "text": [
            "데이터 200000개:\n",
            "색인: 103.144 ms (97.805 MB) 검색: 3.984 ms\n",
            "데이터 400000개:\n",
            "색인: 300.760 ms (196.738 MB) 검색: 6.104 ms\n",
            "데이터 600000개:\n",
            "색인: 250.059 ms (298.484 MB) 검색: 5.316 ms\n",
            "데이터 800000개:\n",
            "색인: 345.282 ms (396.098 MB) 검색: 4.838 ms\n",
            "데이터 1000000개:\n",
            "색인: 433.745 ms (493.766 MB) 검색: 7.660 ms\n"
          ]
        }
      ]
    },
    {
      "cell_type": "markdown",
      "source": [
        "## 2. HNSW - parameter: m"
      ],
      "metadata": {
        "id": "4Aq_hr9eChlx"
      }
    },
    {
      "cell_type": "code",
      "source": [
        "import numpy as np\n",
        "\n",
        "k = 1\n",
        "d = xq.shape[1]\n",
        "nq = 1000\n",
        "xq = xq[:nq]\n",
        "\n",
        "init_memory = get_memory_usage_mb()\n",
        "for m in [8, 16, 32, 64]:\n",
        "  index = faiss.IndexHNSWFlat(d, m)\n",
        "  time.sleep(3)\n",
        "\n",
        "  start_memory = get_memory_usage_mb()\n",
        "  start_indexing = time.time()\n",
        "\n",
        "  index.add(xb)\n",
        "\n",
        "  end_indexing = time.time()\n",
        "  end_memory = get_memory_usage_mb()\n",
        "\n",
        "  indexing = (end_indexing - start_indexing)\n",
        "  # memory = end_memory - start_memory\n",
        "  memory = end_memory - init_memory\n",
        "\n",
        "  print(f\"M: {m} - 색인: {indexing} s ({memory:.3f} MB)\")\n",
        "\n",
        "  t0 = time.time()\n",
        "  D, I = index.search(xq, k)\n",
        "  t1 = time.time()\n",
        "\n",
        "  per_query = (t1 - t0) * 1000.0 / nq\n",
        "  recall_at_1 = np.equal(I, gt[:nq, :1]).sum() / float(nq)\n",
        "\n",
        "  print(f\"{per_query:.3f} ms/query, R@1 {recall_at_1:.3f}\")"
      ],
      "metadata": {
        "colab": {
          "base_uri": "https://localhost:8080/"
        },
        "id": "CXaDWflYCf7l",
        "outputId": "717bde79-d522-4547-9e7f-0e8d9ff3a965"
      },
      "execution_count": 7,
      "outputs": [
        {
          "output_type": "stream",
          "name": "stdout",
          "text": [
            "M: 8 - 색인: 122.96884989738464 s (80.742 MB)\n",
            "0.046 ms/query, R@1 0.686\n",
            "M: 16 - 색인: 135.1342692375183 s (141.668 MB)\n",
            "0.116 ms/query, R@1 0.791\n",
            "M: 32 - 색인: 251.60815334320068 s (263.562 MB)\n",
            "0.104 ms/query, R@1 0.909\n",
            "M: 64 - 색인: 337.6571247577667 s (507.914 MB)\n",
            "0.151 ms/query, R@1 0.936\n"
          ]
        }
      ]
    },
    {
      "cell_type": "markdown",
      "source": [
        "## 3. HNSW - parameter: ef_construction"
      ],
      "metadata": {
        "id": "fDIwFtuGNZQ_"
      }
    },
    {
      "cell_type": "code",
      "source": [
        "k = 1\n",
        "d = xq.shape[1]\n",
        "nq = 1000\n",
        "xq = xq[:nq]\n",
        "m = 32\n",
        "\n",
        "init_memory = get_memory_usage_mb()\n",
        "for ef_construction in [40, 80, 160, 320]:\n",
        "  index = faiss.IndexHNSWFlat(d, m)\n",
        "  index.hnsw.efConstruction = ef_construction\n",
        "  time.sleep(3)\n",
        "\n",
        "  start_memory = get_memory_usage_mb()\n",
        "  start_indexing = time.time()\n",
        "\n",
        "  index.add(xb)\n",
        "\n",
        "  end_indexing = time.time()\n",
        "  end_memory = get_memory_usage_mb()\n",
        "\n",
        "  indexing = (end_indexing - start_indexing)\n",
        "  # memory = end_memory - start_memory\n",
        "  memory = end_memory - init_memory\n",
        "\n",
        "  print(f\"efConstruction: {ef_construction} - 색인: {indexing} s ({memory:.3f} MB)\")\n",
        "\n",
        "  t0 = time.time()\n",
        "  D, I = index.search(xq, k)\n",
        "  t1 = time.time()\n",
        "\n",
        "  per_query = (t1 - t0) * 1000.0 / nq\n",
        "  recall_at_1 = np.equal(I, gt[:nq, :1]).sum() / float(nq)\n",
        "\n",
        "  print(f\"{per_query:.3f} ms/query, R@1 {recall_at_1:.3f}\")"
      ],
      "metadata": {
        "colab": {
          "base_uri": "https://localhost:8080/"
        },
        "id": "J1HKjuiCEd_I",
        "outputId": "bba7be01-0e62-4a7b-c741-bc1be898dc9f"
      },
      "execution_count": 9,
      "outputs": [
        {
          "output_type": "stream",
          "name": "stdout",
          "text": [
            "efConstruction: 40 - 색인: 236.34866738319397 s (748.172 MB)\n",
            "0.108 ms/query, R@1 0.907\n",
            "efConstruction: 80 - 색인: 291.94095730781555 s (748.117 MB)\n",
            "0.076 ms/query, R@1 0.863\n",
            "efConstruction: 160 - 색인: 586.52268409729 s (748.062 MB)\n",
            "0.087 ms/query, R@1 0.906\n",
            "efConstruction: 320 - 색인: 1143.8348817825317 s (748.266 MB)\n",
            "0.092 ms/query, R@1 0.915\n"
          ]
        }
      ]
    },
    {
      "cell_type": "markdown",
      "source": [
        "## 4. HNSW - parameter: ef_search"
      ],
      "metadata": {
        "id": "a0XU6Ix4SANg"
      }
    },
    {
      "cell_type": "code",
      "source": [
        "k = 1\n",
        "d = xq.shape[1]\n",
        "nq = 1000\n",
        "xq = xq[:nq]\n",
        "m = 32\n",
        "ef_construction = 320\n",
        "\n",
        "init_memory = get_memory_usage_mb()\n",
        "for ef_search in [16, 32, 64, 128]:\n",
        "  index = faiss.IndexHNSWFlat(d, m)\n",
        "  index.hnsw.efConstruction = ef_construction\n",
        "  index.hnsw.efSearch = ef_search\n",
        "  time.sleep(3)\n",
        "\n",
        "  start_memory = get_memory_usage_mb()\n",
        "  start_indexing = time.time()\n",
        "\n",
        "  index.add(xb)\n",
        "\n",
        "  end_indexing = time.time()\n",
        "  end_memory = get_memory_usage_mb()\n",
        "\n",
        "  indexing = (end_indexing - start_indexing)\n",
        "  # memory = end_memory - start_memory\n",
        "  memory = end_memory - init_memory\n",
        "\n",
        "  print(f\"efSearch: {ef_search} - 색인: {indexing} s ({memory:.3f} MB)\")\n",
        "\n",
        "  t0 = time.time()\n",
        "  D, I = index.search(xq, k)\n",
        "  t1 = time.time()\n",
        "\n",
        "  per_query = (t1 - t0) * 1000.0 / nq\n",
        "  recall_at_1 = np.equal(I, gt[:nq, :1]).sum() / float(nq)\n",
        "\n",
        "  print(f\"{per_query:.3f} ms/query, R@1 {recall_at_1:.3f}\")"
      ],
      "metadata": {
        "colab": {
          "base_uri": "https://localhost:8080/"
        },
        "id": "kH9EgO9EONqR",
        "outputId": "afa4de92-2d86-4399-899f-1802a224c02e"
      },
      "execution_count": 11,
      "outputs": [
        {
          "output_type": "stream",
          "name": "stdout",
          "text": [
            "efSearch: 16 - 색인: 1133.8854548931122 s (747.914 MB)\n",
            "0.091 ms/query, R@1 0.918\n",
            "efSearch: 32 - 색인: 1143.8217668533325 s (748.375 MB)\n",
            "0.165 ms/query, R@1 0.969\n",
            "efSearch: 64 - 색인: 1142.7180523872375 s (748.320 MB)\n",
            "0.277 ms/query, R@1 0.985\n",
            "efSearch: 128 - 색인: 1144.839806318283 s (748.523 MB)\n",
            "0.468 ms/query, R@1 0.991\n"
          ]
        }
      ]
    }
  ],
  "metadata": {
    "colab": {
      "provenance": []
    },
    "kernelspec": {
      "display_name": "Python 3",
      "name": "python3"
    },
    "language_info": {
      "name": "python"
    }
  },
  "nbformat": 4,
  "nbformat_minor": 0
}