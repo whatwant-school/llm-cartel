{
  "nbformat": 4,
  "nbformat_minor": 0,
  "metadata": {
    "colab": {
      "provenance": [],
      "gpuType": "T4"
    },
    "kernelspec": {
      "name": "python3",
      "display_name": "Python 3"
    },
    "language_info": {
      "name": "python"
    },
    "accelerator": "GPU"
  },
  "cells": [
    {
      "cell_type": "code",
      "execution_count": null,
      "metadata": {
        "id": "iALDsPwM7JId"
      },
      "outputs": [],
      "source": [
        "import warnings\n",
        "warnings.filterwarnings('ignore')"
      ]
    },
    {
      "cell_type": "markdown",
      "source": [
        "## 1. No Cache"
      ],
      "metadata": {
        "id": "mhy5p4Jp7Vkr"
      }
    },
    {
      "cell_type": "code",
      "source": [
        "import os\n",
        "import time\n",
        "from openai import OpenAI\n",
        "\n",
        "os.environ['OPENAI_API_KEY'] = ''\n",
        "\n",
        "openai_client = OpenAI()\n",
        "\n",
        "def response_text(openai_resp):\n",
        "  return openai_resp.choices[0].message.content\n",
        "\n",
        "model = 'gpt-3.5-turbo'\n",
        "question = '북태평양 기단과 오호츠크해 기단이 만나 국내에 머무르는 기간은?'\n",
        "message = [{'role': 'user', 'content': question }]\n",
        "\n",
        "for _ in range(2):\n",
        "  start_time = time.time()\n",
        "  response = openai_client.chat.completions.create(model=model, messages=message)\n",
        "  response = response_text(response)\n",
        "  running_time = time.time() - start_time\n",
        "\n",
        "  print(f'질문: {question}')\n",
        "  print(f'소요 시간: {running_time:.2f}s')\n",
        "  print(f'답변: {response}\\n')"
      ],
      "metadata": {
        "colab": {
          "base_uri": "https://localhost:8080/"
        },
        "id": "pNqB9u7a3xik",
        "outputId": "f39abfb0-2a38-4411-8d91-0aff1e2c0be3"
      },
      "execution_count": null,
      "outputs": [
        {
          "output_type": "stream",
          "name": "stdout",
          "text": [
            "질문: 북태평양 기단과 오호츠크해 기단이 만나 국내에 머무르는 기간은?\n",
            "소요 시간: 3.35s\n",
            "답변: 북태평양 기단과 오호츠크해 기단이 만나 국내에 머무르는 기간은 주로 가을부터 겨울까지입니다. 이 기간 동안 한반도에는 추위와 바람이 강해지며, 일부 지역에서는 눈이 내리기도 합니다.해당 기단은 주로 10월부터 3월 사이에 영향을 미치며, 특히 11월부터 2월 사이에 가장 강하게 느껴집니다. 해가 바뀌면서 온도도 급격히 떨어지고 다양한 기후변화가 있을 수 있습니다. 이 기간 동안 적절한 준비와 방법으로 추위를 대비할 필요가 있습니다.\n",
            "\n",
            "질문: 북태평양 기단과 오호츠크해 기단이 만나 국내에 머무르는 기간은?\n",
            "소요 시간: 1.43s\n",
            "답변: 북태평양 기단과 오호츠크해 기단이 만나 국내에 머무르는 기간은 주로 가을에서 겨울 사이인 10월부터 다음 해 3월까지입니다. 이 기간 동안 기단이 국내에 머무르면서 한겨울 강한 추위를 가져오게 됩니다.\n",
            "\n"
          ]
        }
      ]
    },
    {
      "cell_type": "markdown",
      "source": [
        "## 2. cache"
      ],
      "metadata": {
        "id": "3UxwIiSRkJVY"
      }
    },
    {
      "cell_type": "code",
      "source": [
        "class OpenAICache:\n",
        "  def __init__(self, openai_client):\n",
        "    self.openai_client = openai_client\n",
        "    self.cache = {}\n",
        "\n",
        "  def generate(self, prompt):\n",
        "    if prompt not in self.cache:\n",
        "      message = [{'role': 'user', 'content': prompt }]\n",
        "      response = self.openai_client.chat.completions.create(model=model, messages=message)\n",
        "      self.cache[prompt] = response_text(response)\n",
        "\n",
        "    return self.cache[prompt]\n",
        "\n",
        "\n",
        "openai_cache = OpenAICache(openai_client)\n",
        "\n",
        "for _ in range(2):\n",
        "  start_time = time.time()\n",
        "  response = openai_cache.generate(question)\n",
        "  running_time = time.time() - start_time\n",
        "\n",
        "  print(f'질문: {question}')\n",
        "  print(f'소요 시간: {running_time:.2f}s')\n",
        "  print(f'답변: {response}\\n')"
      ],
      "metadata": {
        "colab": {
          "base_uri": "https://localhost:8080/"
        },
        "id": "fFpPcHMh8Cgj",
        "outputId": "94c43aa3-71f8-4f37-f343-4069e135b142"
      },
      "execution_count": null,
      "outputs": [
        {
          "output_type": "stream",
          "name": "stdout",
          "text": [
            "질문: 북태평양 기단과 오호츠크해 기단이 만나 국내에 머무르는 기간은?\n",
            "소요 시간: 1.64s\n",
            "답변: 북태평양 기단과 오호츠크해 기단이 만나 국내에 머무르는 기간은 보통 봄과 가을에 해당됩니다. 봄에는 4월부터 5월, 가을에는 9월부터 10월까지 주로 국내에 머무르게 됩니다. 이 기간 동안 대부분의 날씨는 서늘하고 건조하며 바람이 강하게 불 수도 있습니다.\n",
            "\n",
            "질문: 북태평양 기단과 오호츠크해 기단이 만나 국내에 머무르는 기간은?\n",
            "소요 시간: 0.00s\n",
            "답변: 북태평양 기단과 오호츠크해 기단이 만나 국내에 머무르는 기간은 보통 봄과 가을에 해당됩니다. 봄에는 4월부터 5월, 가을에는 9월부터 10월까지 주로 국내에 머무르게 됩니다. 이 기간 동안 대부분의 날씨는 서늘하고 건조하며 바람이 강하게 불 수도 있습니다.\n",
            "\n"
          ]
        }
      ]
    },
    {
      "cell_type": "markdown",
      "source": [
        "## 3. similar search"
      ],
      "metadata": {
        "id": "dQNsoGbI-S7f"
      }
    },
    {
      "cell_type": "code",
      "source": [
        "%%capture\n",
        "! pip install chromadb"
      ],
      "metadata": {
        "id": "N5HQnv8M3Wc0"
      },
      "execution_count": null,
      "outputs": []
    },
    {
      "cell_type": "code",
      "source": [
        "import chromadb\n",
        "\n",
        "chroma_client = chromadb.Client()"
      ],
      "metadata": {
        "id": "_DAMceOiD8YR"
      },
      "execution_count": null,
      "outputs": []
    },
    {
      "cell_type": "code",
      "source": [
        "class OpenAICache:\n",
        "  def __init__(self, openai_client, semantic_cache):\n",
        "    self.openai_client = openai_client\n",
        "    self.cache = {}\n",
        "    self.semantic_cache = semantic_cache\n",
        "\n",
        "  def generate(self, prompt):\n",
        "    if prompt not in self.cache:\n",
        "      similar_doc = self.semantic_cache.query(query_texts=[prompt], n_results=1)\n",
        "      if len(similar_doc['distances'][0]) > 0 and similar_doc['distances'][0][0] < 0.2:\n",
        "        return similar_doc['metadatas'][0][0]['response']\n",
        "\n",
        "      else:\n",
        "        message = [{'role': 'user', 'content': prompt }]\n",
        "        response = self.openai_client.chat.completions.create(model=model, messages=message)\n",
        "        self.cache[prompt] = response_text(response)\n",
        "\n",
        "        metadata = {'response':response_text(response)}\n",
        "        self.semantic_cache.add(documents=[prompt], metadatas=[metadata], ids=[prompt])\n",
        "\n",
        "    return self.cache[prompt]"
      ],
      "metadata": {
        "id": "XZJRkMyA-X0k"
      },
      "execution_count": null,
      "outputs": []
    },
    {
      "cell_type": "code",
      "source": [
        "from chromadb.utils.embedding_functions import OpenAIEmbeddingFunction\n",
        "\n",
        "embedding_model = 'text-embedding-ada-002'\n",
        "openai_ef = OpenAIEmbeddingFunction(api_key=os.environ['OPENAI_API_KEY'])\n",
        "\n",
        "semantic_cache = chroma_client.create_collection(\n",
        "    name='semantic_cache',\n",
        "    embedding_function=openai_ef,\n",
        "    metadata={'hnsw:space': 'cosine'}\n",
        ")\n",
        "\n",
        "openai_cache = OpenAICache(openai_client, semantic_cache)\n",
        "\n",
        "questions = [\n",
        "    '북태평양 기단과 오호츠크해 기단이 만나 국내에 머무르는 기간은?',\n",
        "    '북태평양 기단과 오호츠크해 기단이 만나 국내에 머무르는 기간은?',\n",
        "    '북태평양 기단과 오호츠크해 기단이 만나 한반도에 머무르는 기간은?',\n",
        "    '국내에 북태평양 기단과 오호츠크해 기단이 함께 머무르는 기간은?'\n",
        "]\n",
        "\n",
        "for question in questions:\n",
        "  start_time = time.time()\n",
        "  response = openai_cache.generate(question)\n",
        "  running_time = time.time() - start_time\n",
        "\n",
        "  print(f'질문: {question}')\n",
        "  print(f'소요 시간: {running_time:.2f}s')\n",
        "  print(f'답변: {response}\\n')"
      ],
      "metadata": {
        "colab": {
          "base_uri": "https://localhost:8080/"
        },
        "id": "L6P1DCMc3cBg",
        "outputId": "ada9bf51-8733-48e9-eafc-7d0893f0aab4"
      },
      "execution_count": null,
      "outputs": [
        {
          "output_type": "stream",
          "name": "stdout",
          "text": [
            "질문: 북태평양 기단과 오호츠크해 기단이 만나 국내에 머무르는 기간은?\n",
            "소요 시간: 3.42s\n",
            "답변: 북태평양 기단과 오호츠크해 기단이 만나 국내에 머무르는 기간은 주로 가을부터 겨울에 이르는 기간이며, 보통 10월부터 3월 사이에 국내를 방문하게 됩니다. 이 기단이 만나면 한반도에는 한파가 찾아오거나 강한 바람과 폭설이 예상되므로 춥고 추운 겨울철을 준비해야 합니다.\n",
            "\n",
            "질문: 북태평양 기단과 오호츠크해 기단이 만나 국내에 머무르는 기간은?\n",
            "소요 시간: 0.00s\n",
            "답변: 북태평양 기단과 오호츠크해 기단이 만나 국내에 머무르는 기간은 주로 가을부터 겨울에 이르는 기간이며, 보통 10월부터 3월 사이에 국내를 방문하게 됩니다. 이 기단이 만나면 한반도에는 한파가 찾아오거나 강한 바람과 폭설이 예상되므로 춥고 추운 겨울철을 준비해야 합니다.\n",
            "\n",
            "질문: 북태평양 기단과 오호츠크해 기단이 만나 한반도에 머무르는 기간은?\n",
            "소요 시간: 0.56s\n",
            "답변: 북태평양 기단과 오호츠크해 기단이 만나 국내에 머무르는 기간은 주로 가을부터 겨울에 이르는 기간이며, 보통 10월부터 3월 사이에 국내를 방문하게 됩니다. 이 기단이 만나면 한반도에는 한파가 찾아오거나 강한 바람과 폭설이 예상되므로 춥고 추운 겨울철을 준비해야 합니다.\n",
            "\n",
            "질문: 국내에 북태평양 기단과 오호츠크해 기단이 함께 머무르는 기간은?\n",
            "소요 시간: 0.52s\n",
            "답변: 북태평양 기단과 오호츠크해 기단이 만나 국내에 머무르는 기간은 주로 가을부터 겨울에 이르는 기간이며, 보통 10월부터 3월 사이에 국내를 방문하게 됩니다. 이 기단이 만나면 한반도에는 한파가 찾아오거나 강한 바람과 폭설이 예상되므로 춥고 추운 겨울철을 준비해야 합니다.\n",
            "\n"
          ]
        }
      ]
    }
  ]
}